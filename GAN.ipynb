{
 "cells": [
  {
   "cell_type": "code",
   "execution_count": 1,
   "metadata": {},
   "outputs": [],
   "source": [
    "import torch\n",
    "import torch.nn as nn\n",
    "import torch.nn.functional as F\n",
    "import torch.optim as optim\n",
    "import os\n",
    "import torchvision\n",
    "import torchvision.transforms as transforms\n",
    "\n",
    "from torch.utils.data import DataLoader\n",
    "from torch.autograd import Variable\n",
    "from torch.optim import Adam\n",
    "\n",
    "import pickle\n",
    "import imageio\n",
    "import random"
   ]
  },
  {
   "cell_type": "code",
   "execution_count": 2,
   "metadata": {},
   "outputs": [],
   "source": [
    "import matplotlib.pyplot as plt\n",
    "%matplotlib inline"
   ]
  },
  {
   "cell_type": "code",
   "execution_count": 3,
   "metadata": {},
   "outputs": [
    {
     "name": "stdout",
     "output_type": "stream",
     "text": [
      " C 드라이브의 볼륨에는 이름이 없습니다.\n",
      " 볼륨 일련 번호: 96ED-75D7\n",
      "\n",
      " C:\\Users\\wlska\\Documents\\MapleImageGan\\dataset 디렉터리\n",
      "\n",
      "2020-09-08  오후 10:56    <DIR>          .\n",
      "2020-09-08  오후 10:56    <DIR>          ..\n",
      "2020-09-08  오후 10:56    <DIR>          original_image\n",
      "2020-09-08  오후 10:56    <DIR>          새 폴더\n",
      "               0개 파일                   0 바이트\n",
      "               4개 디렉터리  310,769,405,952 바이트 남음\n"
     ]
    }
   ],
   "source": [
    "%ls dataset"
   ]
  },
  {
   "cell_type": "code",
   "execution_count": 4,
   "metadata": {},
   "outputs": [
    {
     "data": {
      "text/plain": [
       "<matplotlib.image.AxesImage at 0x185527119d0>"
      ]
     },
     "execution_count": 4,
     "metadata": {},
     "output_type": "execute_result"
    },
    {
     "data": {
      "image/png": "[encoded data removed]",
      "text/plain": [
       "<Figure size 432x288 with 1 Axes>"
      ]
     },
     "metadata": {
      "needs_background": "light"
     },
     "output_type": "display_data"
    }
   ],
   "source": [
    "import PIL.Image as pilimg\n",
    "import numpy as np\n",
    "\n",
    "image = pilimg.open('dataset/original_image/0.png')\n",
    "image_pix = np.array(image)\n",
    "plt.imshow(image_pix)"
   ]
  },
  {
   "cell_type": "code",
   "execution_count": 5,
   "metadata": {},
   "outputs": [],
   "source": [
    "def seed_everything(seed):\n",
    "    random.seed(seed)\n",
    "    os.environ['PYTHONHASHSEED'] = str(seed)\n",
    "    np.random.seed(seed)\n",
    "    torch.manual_seed(seed)\n",
    "    torch.cuda.manual_seed(seed)\n",
    "    torch.backends.cudnn.dterministic = True\n",
    "    torch.backends.cudnn.benchmark = True"
   ]
  },
  {
   "cell_type": "code",
   "execution_count": 6,
   "metadata": {},
   "outputs": [
    {
     "data": {
      "text/plain": [
       "(40, 40)"
      ]
     },
     "execution_count": 6,
     "metadata": {},
     "output_type": "execute_result"
    }
   ],
   "source": [
    "image_pix.shape"
   ]
  },
  {
   "cell_type": "code",
   "execution_count": 7,
   "metadata": {},
   "outputs": [
    {
     "data": {
      "text/plain": [
       "Dataset ImageFolder\n",
       "    Number of datapoints: 126\n",
       "    Root location: dataset/\n",
       "    StandardTransform\n",
       "Transform: Compose(\n",
       "               ToTensor()\n",
       "               Normalize(mean=(0.5,), std=(0.5,))\n",
       "           )"
      ]
     },
     "execution_count": 7,
     "metadata": {},
     "output_type": "execute_result"
    }
   ],
   "source": [
    "# 데이터 전처리 방식을 지정한다.\n",
    "transform = transforms.Compose([\n",
    "        transforms.ToTensor(), # 데이터를 PyTorch의 Tensor 형식으로 바꾼다.\n",
    "        transforms.Normalize(mean=(0.5,), std=(0.5,)) # 픽셀값 0 ~ 1 -> -1 ~ 1\n",
    "])\n",
    "\n",
    "train_data = torchvision.datasets.ImageFolder(root=\"dataset/\", transform=transform)\n",
    "train_data"
   ]
  },
  {
   "cell_type": "code",
   "execution_count": 8,
   "metadata": {},
   "outputs": [],
   "source": [
    "dataloader = DataLoader(train_data, batch_size=100, shuffle=True)"
   ]
  },
  {
   "cell_type": "code",
   "execution_count": 9,
   "metadata": {},
   "outputs": [],
   "source": [
    "if torch.cuda.is_available():\n",
    "    use_gpu = True\n",
    "leave_log = True\n",
    "if leave_log:\n",
    "    result_dir = 'GAN_generated_images/'\n",
    "    if not os.path.isdir(result_dir):\n",
    "        os.mkdir(result_dir)"
   ]
  },
  {
   "cell_type": "code",
   "execution_count": 10,
   "metadata": {},
   "outputs": [],
   "source": [
    "### GAN의 생성자(Generator)\n",
    "# 생성자는 랜덤 벡터 z를 입력으로 받아 가짜 이미지를 출력한다.\n",
    "class Generator(nn.Module):\n",
    "\n",
    "    # 네트워크 구조\n",
    "    def __init__(self):\n",
    "        super(Generator, self).__init__()\n",
    "        self.main = nn.Sequential(\n",
    "            nn.Linear(in_features=300, out_features=256),\n",
    "            nn.LeakyReLU(0.2, inplace=False),\n",
    "            nn.Linear(in_features=256, out_features=512),\n",
    "            nn.LeakyReLU(0.2, inplace=False),\n",
    "            nn.Linear(in_features=512, out_features=1024),\n",
    "            nn.LeakyReLU(0.2, inplace=False),\n",
    "            nn.Linear(in_features=1024, out_features=40*40),\n",
    "            nn.Tanh())\n",
    "    \n",
    "    # (batch_size x 100) 크기의 랜덤 벡터를 받아 \n",
    "    # 이미지를 (batch_size x 1 x 28 x 28) 크기로 출력한다.\n",
    "    def forward(self, inputs):\n",
    "        return self.main(inputs).view(-1, 1, 40, 40)"
   ]
  },
  {
   "cell_type": "code",
   "execution_count": 11,
   "metadata": {},
   "outputs": [],
   "source": [
    "### GAN의 구분자(Discriminator)\n",
    "# 구분자는 이미지를 입력으로 받아 이미지가 진짜인지 가짜인지 출력한다.\n",
    "class Discriminator(nn.Module):\n",
    "    \n",
    "    # 네트워크 구조\n",
    "    def __init__(self):\n",
    "        super(Discriminator, self).__init__()\n",
    "        self.main = nn.Sequential(\n",
    "            nn.Linear(in_features=40*40, out_features=1024),\n",
    "            nn.LeakyReLU(0.2, inplace=False),\n",
    "            nn.Dropout(inplace=True),\n",
    "            nn.Linear(in_features=1024, out_features=512),\n",
    "            nn.LeakyReLU(0.2, inplace=False),\n",
    "            nn.Dropout(inplace=True),\n",
    "            nn.Linear(in_features=512, out_features=256),\n",
    "            nn.LeakyReLU(0.2, inplace=False),\n",
    "            nn.Dropout(inplace=True),\n",
    "            nn.Linear(in_features=256, out_features=1),\n",
    "            nn.Sigmoid())\n",
    "    \n",
    "    # (batch_size x 1 x 28 x 28) 크기의 이미지를 받아\n",
    "    # 이미지가 진짜일 확률을 0~1 사이로 출력한다.\n",
    "    def forward(self, inputs):\n",
    "        inputs = inputs.view(-1, 40*40)\n",
    "        return self.main(inputs)"
   ]
  },
  {
   "cell_type": "code",
   "execution_count": 12,
   "metadata": {},
   "outputs": [],
   "source": [
    "### 생성자와 구분자 객체 만들기\n",
    "G = Generator()\n",
    "D = Discriminator()\n",
    "\n",
    "if use_gpu:\n",
    "    G.cuda()\n",
    "    D.cuda()"
   ]
  },
  {
   "cell_type": "code",
   "execution_count": 13,
   "metadata": {},
   "outputs": [],
   "source": [
    "### 손실 함수와 최적화 기법 지정하기\n",
    "# Binary Cross Entropy loss\n",
    "criterion = nn.BCELoss()\n",
    "\n",
    "# 생성자의 매개 변수를 최적화하는 Adam optimizer\n",
    "G_optimizer = Adam(G.parameters(), lr=0.0002, betas=(0.5, 0.999))\n",
    "# 구분자의 매개 변수를 최적화하는 Adam optimizer\n",
    "D_optimizer = Adam(D.parameters(), lr=0.0002, betas=(0.5, 0.999))"
   ]
  },
  {
   "cell_type": "code",
   "execution_count": 14,
   "metadata": {},
   "outputs": [],
   "source": [
    "import numpy as np\n",
    "\n",
    "def square_plot(data, path):\n",
    "    \"\"\"Take an array of shape (n, height, width) or (n, height, width , 3)\n",
    "       and visualize each (height, width) thing in a grid of size approx. sqrt(n) by sqrt(n)\"\"\"\n",
    "\n",
    "    if type(data) == list:\n",
    "\t    data = np.concatenate(data)\n",
    "    # normalize data for display\n",
    "    data = (data - data.min()) / (data.max() - data.min())\n",
    "\n",
    "    # force the number of filters to be square\n",
    "    n = int(np.ceil(np.sqrt(data.shape[0])))\n",
    "\n",
    "    padding = (((0, n ** 2 - data.shape[0]) ,\n",
    "                (0, 1), (0, 1))  # add some space between filters\n",
    "               + ((0, 0),) * (data.ndim - 3))  # don't pad the last dimension (if there is one)\n",
    "    data = np.pad(data , padding, mode='constant' , constant_values=1)  # pad with ones (white)\n",
    "\n",
    "    # tilethe filters into an image\n",
    "    data = data.reshape((n , n) + data.shape[1:]).transpose((0 , 2 , 1 , 3) + tuple(range(4 , data.ndim + 1)))\n",
    "\n",
    "    data = data.reshape((n * data.shape[1] , n * data.shape[3]) + data.shape[4:])\n",
    "\n",
    "    plt.imsave(path, data, cmap='gray')"
   ]
  },
  {
   "cell_type": "code",
   "execution_count": 15,
   "metadata": {},
   "outputs": [
    {
     "name": "stderr",
     "output_type": "stream",
     "text": [
      "<ipython-input-15-ecd4dccd5415>:7: UserWarning: volatile was removed and now has no effect. Use `with torch.no_grad():` instead.\n",
      "  z_fixed = Variable(torch.randn(5 * 5, 300), volatile=True)\n"
     ]
    }
   ],
   "source": [
    "if leave_log:\n",
    "    train_hist = {}\n",
    "    train_hist['D_losses'] = []\n",
    "    train_hist['G_losses'] = []\n",
    "    generated_images = []\n",
    "    \n",
    "z_fixed = Variable(torch.randn(5 * 5, 300), volatile=True)\n",
    "if use_gpu:\n",
    "    z_fixed = z_fixed.cuda()"
   ]
  },
  {
   "cell_type": "code",
   "execution_count": 16,
   "metadata": {},
   "outputs": [
    {
     "name": "stdout",
     "output_type": "stream",
     "text": [
      "GAN_generated_images//PNG_Folder/epoch0.png\n",
      "GAN_generated_images//PNG_Folder/epoch1.png\n",
      "GAN_generated_images//PNG_Folder/epoch2.png\n",
      "GAN_generated_images//PNG_Folder/epoch3.png\n",
      "GAN_generated_images//PNG_Folder/epoch4.png\n",
      "GAN_generated_images//PNG_Folder/epoch5.png\n",
      "GAN_generated_images//PNG_Folder/epoch6.png\n",
      "GAN_generated_images//PNG_Folder/epoch7.png\n",
      "GAN_generated_images//PNG_Folder/epoch8.png\n",
      "GAN_generated_images//PNG_Folder/epoch9.png\n",
      "GAN_generated_images//PNG_Folder/epoch10.png\n",
      "GAN_generated_images//PNG_Folder/epoch11.png\n",
      "GAN_generated_images//PNG_Folder/epoch12.png\n",
      "GAN_generated_images//PNG_Folder/epoch13.png\n",
      "GAN_generated_images//PNG_Folder/epoch14.png\n",
      "GAN_generated_images//PNG_Folder/epoch15.png\n",
      "GAN_generated_images//PNG_Folder/epoch16.png\n",
      "GAN_generated_images//PNG_Folder/epoch17.png\n",
      "GAN_generated_images//PNG_Folder/epoch18.png\n",
      "GAN_generated_images//PNG_Folder/epoch19.png\n",
      "GAN_generated_images//PNG_Folder/epoch20.png\n",
      "GAN_generated_images//PNG_Folder/epoch21.png\n",
      "GAN_generated_images//PNG_Folder/epoch22.png\n",
      "GAN_generated_images//PNG_Folder/epoch23.png\n",
      "GAN_generated_images//PNG_Folder/epoch24.png\n",
      "GAN_generated_images//PNG_Folder/epoch25.png\n",
      "GAN_generated_images//PNG_Folder/epoch26.png\n",
      "GAN_generated_images//PNG_Folder/epoch27.png\n",
      "GAN_generated_images//PNG_Folder/epoch28.png\n",
      "GAN_generated_images//PNG_Folder/epoch29.png\n",
      "GAN_generated_images//PNG_Folder/epoch30.png\n",
      "GAN_generated_images//PNG_Folder/epoch31.png\n",
      "GAN_generated_images//PNG_Folder/epoch32.png\n",
      "GAN_generated_images//PNG_Folder/epoch33.png\n",
      "GAN_generated_images//PNG_Folder/epoch34.png\n",
      "GAN_generated_images//PNG_Folder/epoch35.png\n",
      "GAN_generated_images//PNG_Folder/epoch36.png\n",
      "GAN_generated_images//PNG_Folder/epoch37.png\n",
      "GAN_generated_images//PNG_Folder/epoch38.png\n",
      "GAN_generated_images//PNG_Folder/epoch39.png\n",
      "GAN_generated_images//PNG_Folder/epoch40.png\n",
      "GAN_generated_images//PNG_Folder/epoch41.png\n",
      "GAN_generated_images//PNG_Folder/epoch42.png\n",
      "GAN_generated_images//PNG_Folder/epoch43.png\n",
      "GAN_generated_images//PNG_Folder/epoch44.png\n",
      "GAN_generated_images//PNG_Folder/epoch45.png\n",
      "GAN_generated_images//PNG_Folder/epoch46.png\n",
      "GAN_generated_images//PNG_Folder/epoch47.png\n",
      "GAN_generated_images//PNG_Folder/epoch48.png\n",
      "GAN_generated_images//PNG_Folder/epoch49.png\n",
      "GAN_generated_images//PNG_Folder/epoch50.png\n",
      "GAN_generated_images//PNG_Folder/epoch51.png\n",
      "GAN_generated_images//PNG_Folder/epoch52.png\n",
      "GAN_generated_images//PNG_Folder/epoch53.png\n",
      "GAN_generated_images//PNG_Folder/epoch54.png\n",
      "GAN_generated_images//PNG_Folder/epoch55.png\n",
      "GAN_generated_images//PNG_Folder/epoch56.png\n",
      "GAN_generated_images//PNG_Folder/epoch57.png\n",
      "GAN_generated_images//PNG_Folder/epoch58.png\n",
      "GAN_generated_images//PNG_Folder/epoch59.png\n",
      "GAN_generated_images//PNG_Folder/epoch60.png\n",
      "GAN_generated_images//PNG_Folder/epoch61.png\n",
      "GAN_generated_images//PNG_Folder/epoch62.png\n",
      "GAN_generated_images//PNG_Folder/epoch63.png\n",
      "GAN_generated_images//PNG_Folder/epoch64.png\n",
      "GAN_generated_images//PNG_Folder/epoch65.png\n",
      "GAN_generated_images//PNG_Folder/epoch66.png\n",
      "GAN_generated_images//PNG_Folder/epoch67.png\n",
      "GAN_generated_images//PNG_Folder/epoch68.png\n",
      "GAN_generated_images//PNG_Folder/epoch69.png\n",
      "GAN_generated_images//PNG_Folder/epoch70.png\n",
      "GAN_generated_images//PNG_Folder/epoch71.png\n",
      "GAN_generated_images//PNG_Folder/epoch72.png\n",
      "GAN_generated_images//PNG_Folder/epoch73.png\n",
      "GAN_generated_images//PNG_Folder/epoch74.png\n",
      "GAN_generated_images//PNG_Folder/epoch75.png\n",
      "GAN_generated_images//PNG_Folder/epoch76.png\n",
      "GAN_generated_images//PNG_Folder/epoch77.png\n",
      "GAN_generated_images//PNG_Folder/epoch78.png\n",
      "GAN_generated_images//PNG_Folder/epoch79.png\n",
      "GAN_generated_images//PNG_Folder/epoch80.png\n",
      "GAN_generated_images//PNG_Folder/epoch81.png\n",
      "GAN_generated_images//PNG_Folder/epoch82.png\n",
      "GAN_generated_images//PNG_Folder/epoch83.png\n",
      "GAN_generated_images//PNG_Folder/epoch84.png\n",
      "GAN_generated_images//PNG_Folder/epoch85.png\n",
      "GAN_generated_images//PNG_Folder/epoch86.png\n",
      "GAN_generated_images//PNG_Folder/epoch87.png\n",
      "GAN_generated_images//PNG_Folder/epoch88.png\n",
      "GAN_generated_images//PNG_Folder/epoch89.png\n",
      "GAN_generated_images//PNG_Folder/epoch90.png\n",
      "GAN_generated_images//PNG_Folder/epoch91.png\n",
      "GAN_generated_images//PNG_Folder/epoch92.png\n",
      "GAN_generated_images//PNG_Folder/epoch93.png\n",
      "GAN_generated_images//PNG_Folder/epoch94.png\n",
      "GAN_generated_images//PNG_Folder/epoch95.png\n",
      "GAN_generated_images//PNG_Folder/epoch96.png\n",
      "GAN_generated_images//PNG_Folder/epoch97.png\n",
      "GAN_generated_images//PNG_Folder/epoch98.png\n",
      "GAN_generated_images//PNG_Folder/epoch99.png\n"
     ]
    }
   ],
   "source": [
    "### 모델 학습을 위한 반복문\n",
    "# 데이터셋을 100번 돌며 학습한다.\n",
    "seed_everything(5)\n",
    "for epoch in range(100):\n",
    "    \n",
    "    if leave_log:\n",
    "        D_losses = []\n",
    "        G_losses = []\n",
    "    \n",
    "    # 한번에 batch_size만큼 데이터를 가져온다.\n",
    "    for real_data, _ in dataloader:\n",
    "        batch_size = real_data.size(0)\n",
    "        \n",
    "        # 데이터를 pytorch의 변수로 변환한다.\n",
    "        real_data = Variable(real_data)\n",
    "        \n",
    "        ### 구분자 학습시키기\n",
    "\n",
    "        # 이미지가 진짜일 때 정답 값은 1이고 가짜일 때는 0이다.\n",
    "        # 정답지에 해당하는 변수를 만든다.\n",
    "        target_real = Variable(torch.ones(batch_size*3, 1))\n",
    "        target_fake = Variable(torch.zeros(batch_size, 1))\n",
    "         \n",
    "        if use_gpu:\n",
    "            real_data, target_real, target_fake = real_data.cuda(), target_real.cuda(), target_fake.cuda()\n",
    "            \n",
    "        # 진짜 이미지를 구분자에 넣는다.\n",
    "        D_result_from_real = D(real_data)\n",
    "        # 구분자의 출력값이 정답지인 1에서 멀수록 loss가 높아진다.\n",
    "        D_loss_real = criterion(D_result_from_real, target_real)\n",
    "\n",
    "        # 생성자에 입력으로 줄 랜덤 벡터 z를 만든다.\n",
    "        z = Variable(torch.randn((batch_size, 300)))\n",
    "        \n",
    "        if use_gpu:\n",
    "            z = z.cuda()\n",
    "            \n",
    "        # 생성자로 가짜 이미지를 생성한다.\n",
    "        fake_data = G(z)\n",
    "        \n",
    "        # 생성자가 만든 가짜 이미지를 구분자에 넣는다.\n",
    "        D_result_from_fake = D(fake_data)\n",
    "        # 구분자의 출력값이 정답지인 0에서 멀수록 loss가 높아진다.\n",
    "        D_loss_fake = criterion(D_result_from_fake, target_fake)\n",
    "        \n",
    "        # 구분자의 loss는 두 문제에서 계산된 loss의 합이다.\n",
    "        D_loss = D_loss_real + D_loss_fake\n",
    "        \n",
    "        # 구분자의 매개 변수의 미분값을 0으로 초기화한다.\n",
    "        D.zero_grad()\n",
    "        # 역전파를 통해 매개 변수의 loss에 대한 미분값을 계산한다.\n",
    "        D_loss.backward()\n",
    "        # 최적화 기법을 이용해 구분자의 매개 변수를 업데이트한다.\n",
    "        D_optimizer.step()\n",
    "        \n",
    "        if leave_log:\n",
    "            D_losses.append(D_loss.data)\n",
    "\n",
    "        # train generator G\n",
    "\n",
    "        ### 생성자 학습시키기\n",
    "        \n",
    "        # 생성자에 입력으로 줄 랜덤 벡터 z를 만든다.\n",
    "        z = Variable(torch.randn((batch_size*3, 300)))\n",
    "        \n",
    "        if use_gpu:\n",
    "            z = z.cuda()\n",
    "        \n",
    "        # 생성자로 가짜 이미지를 생성한다.\n",
    "        fake_data = G(z)\n",
    "         #print(fake_data.shape)\n",
    "        # 생성자가 만든 가짜 이미지를 구분자에 넣는다.\n",
    "        D_result_from_fake = D(fake_data)\n",
    "         #print(D_result_from_fake.shape)\n",
    "         #print(target_real.shape)\n",
    "        # 생성자의 입장에서 구분자의 출력값이 1에서 멀수록 loss가 높아진다.\n",
    "        G_loss = criterion(D_result_from_fake, target_real)\n",
    "        \n",
    "        # 생성자의 매개 변수의 미분값을 0으로 초기화한다.\n",
    "        G.zero_grad()\n",
    "        # 역전파를 통해 매개 변수의 loss에 대한 미분값을 계산한다.\n",
    "        G_loss.backward()\n",
    "        # 최적화 기법을 이용해 생성자의 매개 변수를 업데이트한다.\n",
    "        G_optimizer.step()\n",
    "        \n",
    "        if leave_log:\n",
    "            G_losses.append(G_loss.data)\n",
    "    if leave_log:\n",
    "        true_positive_rate = (D_result_from_real > 0.5).float().mean().data\n",
    "        true_negative_rate = (D_result_from_fake < 0.5).float().mean().data\n",
    "        base_message = (\"Epoch: {epoch:<3d} D Loss: {d_loss:<8.6} G Loss: {g_loss:<8.6} \"\n",
    "                        \"True Positive Rate: {tpr:<5.1%} True Negative Rate: {tnr:<5.1%}\"\n",
    "                       )\n",
    "        message = base_message.format(\n",
    "                    epoch=epoch,\n",
    "                    d_loss=sum(D_losses)/len(D_losses),\n",
    "                    g_loss=sum(G_losses)/len(G_losses),\n",
    "                    tpr=true_positive_rate,\n",
    "                    tnr=true_negative_rate\n",
    "        )\n",
    "        print(message)\n",
    "    \n",
    "    if leave_log:\n",
    "        \n",
    "        fake_data_fixed = G(z_fixed)\n",
    "        image_path = result_dir + '/PNG_Folder/epoch{}.png'.format(epoch)\n",
    "        square_plot(fake_data_fixed.view(25, 40, 40).cpu().data.numpy(), path=image_path)\n",
    "        generated_images.append(image_path)\n",
    "        \n",
    "    if leave_log:\n",
    "        train_hist['D_losses'].append(torch.mean(torch.FloatTensor(D_losses)))\n",
    "        train_hist['G_losses'].append(torch.mean(torch.FloatTensor(G_losses)))\n",
    "\n",
    "torch.save(G.state_dict(), \"gan_generator.pkl\")\n",
    "torch.save(D.state_dict(), \"gan_discriminator.pkl\")\n",
    "with open('gan_train_history.pkl', 'wb') as f:\n",
    "    pickle.dump(train_hist, f)\n",
    "\n"
   ]
  },
  {
   "cell_type": "code",
   "execution_count": 18,
   "metadata": {},
   "outputs": [],
   "source": [
    "generated_image_array = [imageio.imread(generated_image) for generated_image in generated_images]\n",
    "\n",
    "imageio.mimsave(result_dir + '/GAN_generation.gif', generated_image_array, fps=10)"
   ]
  },
  {
   "cell_type": "code",
   "execution_count": null,
   "metadata": {},
   "outputs": [],
   "source": []
  }
 ],
 "metadata": {
  "kernelspec": {
   "display_name": "Python 3",
   "language": "python",
   "name": "python3"
  },
  "language_info": {
   "codemirror_mode": {
    "name": "ipython",
    "version": 3
   },
   "file_extension": ".py",
   "mimetype": "text/x-python",
   "name": "python",
   "nbconvert_exporter": "python",
   "pygments_lexer": "ipython3",
   "version": "3.8.3"
  }
 },
 "nbformat": 4,
 "nbformat_minor": 4
}
