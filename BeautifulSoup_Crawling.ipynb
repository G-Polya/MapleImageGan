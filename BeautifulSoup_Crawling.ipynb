{
 "cells": [
  {
   "cell_type": "code",
   "execution_count": 3,
   "metadata": {},
   "outputs": [],
   "source": [
    "import requests\n",
    "from bs4 import BeautifulSoup\n",
    "\n",
    "from urllib.request import urlretrieve"
   ]
  },
  {
   "cell_type": "code",
   "execution_count": 5,
   "metadata": {},
   "outputs": [],
   "source": [
    "raw = requests.get(\"https://maples.im/\",headers={\"User-Agent\": \"Mozilla/5.0\"})\n",
    "\n",
    "html = BeautifulSoup(raw.text, 'html.parser')"
   ]
  },
  {
   "cell_type": "code",
   "execution_count": 7,
   "metadata": {},
   "outputs": [
    {
     "data": {
      "text/plain": [
       "<!DOCTYPE html>\n",
       "<html lang=\"en\"><head><meta charset=\"utf-8\"/><meta content=\"width=device-width,minimum-scale=1,initial-scale=1\" name=\"viewport\"/><meta content=\"#000000\" name=\"theme-color\"/><link href=\"/manifest.json\" rel=\"manifest\"/><link href=\"/favicon.ico\" rel=\"shortcut icon\"/><link href=\"https://fonts.googleapis.com/css?family=Muli:300,400,700\" rel=\"stylesheet\"/><link href=\"https://maxcdn.bootstrapcdn.com/font-awesome/4.6.3/css/font-awesome.min.css\" rel=\"stylesheet\"/><meta content=\"MapleStory Simulator\" name=\"title\"/><meta content=\"A simple simulator for MapleStory characters hosted by Senpai's House\" name=\"description\"/><meta content=\"senpai's house, maplestory, design, editors, mapleeditors, maplestory design, maplestory sim, banned story, bannedstory, bannedstory4, maplesim\" name=\"keywords\"/><meta content=\"index, follow\" name=\"robots\"/><meta content=\"text/html; charset=utf-8\" http-equiv=\"Content-Type\"/><meta content=\"English\" name=\"language\"/><meta content=\"Senpai#1337\" name=\"author\"/><meta content=\"http://maples.im/kino-square.png\" property=\"og:image\"><meta content=\"https://maples.im/kino-square.png\" property=\"og:image:secure_url\"><meta content=\"image/png\" property=\"og:image:type\"><meta content=\"347\" property=\"og:image:width\"><meta content=\"347\" property=\"og:image:height\"><meta content=\"MapleSim\" property=\"og:image:alt\"><meta content=\"website\" property=\"og:type\"><meta content=\"https://maples.im/\" property=\"og:url\"><meta content=\"MapleStory Simulator\" property=\"og:title\"><meta content=\"A simple simulator for MapleStory characters hosted by Senpai's House\" property=\"og:description\"><title>MapleStory Simulator</title><meta content=\"width=device-width,initial-scale=1\" name=\"viewport\"/><link href=\"/static/css/2.cd0e0f6b.chunk.css\" rel=\"stylesheet\"/><link href=\"/static/css/main.f6d1cd8d.chunk.css\" rel=\"stylesheet\"/></meta></meta></meta></meta></meta></meta></meta></meta></meta></meta></head><body><noscript>You need to enable JavaScript to run this app.</noscript><div id=\"root\"></div><script>!function(l){function e(e){for(var r,t,n=e[0],o=e[1],u=e[2],f=0,i=[];f<n.length;f++)t=n[f],p[t]&&i.push(p[t][0]),p[t]=0;for(r in o)Object.prototype.hasOwnProperty.call(o,r)&&(l[r]=o[r]);for(s&&s(e);i.length;)i.shift()();return c.push.apply(c,u||[]),a()}function a(){for(var e,r=0;r<c.length;r++){for(var t=c[r],n=!0,o=1;o<t.length;o++){var u=t[o];0!==p[u]&&(n=!1)}n&&(c.splice(r--,1),e=f(f.s=t[0]))}return e}var t={},p={1:0},c=[];function f(e){if(t[e])return t[e].exports;var r=t[e]={i:e,l:!1,exports:{}};return l[e].call(r.exports,r,r.exports,f),r.l=!0,r.exports}f.m=l,f.c=t,f.d=function(e,r,t){f.o(e,r)||Object.defineProperty(e,r,{enumerable:!0,get:t})},f.r=function(e){\"undefined\"!=typeof Symbol&&Symbol.toStringTag&&Object.defineProperty(e,Symbol.toStringTag,{value:\"Module\"}),Object.defineProperty(e,\"__esModule\",{value:!0})},f.t=function(r,e){if(1&e&&(r=f(r)),8&e)return r;if(4&e&&\"object\"==typeof r&&r&&r.__esModule)return r;var t=Object.create(null);if(f.r(t),Object.defineProperty(t,\"default\",{enumerable:!0,value:r}),2&e&&\"string\"!=typeof r)for(var n in r)f.d(t,n,function(e){return r[e]}.bind(null,n));return t},f.n=function(e){var r=e&&e.__esModule?function(){return e.default}:function(){return e};return f.d(r,\"a\",r),r},f.o=function(e,r){return Object.prototype.hasOwnProperty.call(e,r)},f.p=\"/\";var r=window.webpackJsonp=window.webpackJsonp||[],n=r.push.bind(r);r.push=e,r=r.slice();for(var o=0;o<r.length;o++)e(r[o]);var s=n;a()}([])</script><script src=\"/static/js/2.000eed35.chunk.js\"></script><script src=\"/static/js/main.4eca17f8.chunk.js\"></script></body></html>"
      ]
     },
     "execution_count": 7,
     "metadata": {},
     "output_type": "execute_result"
    }
   ],
   "source": [
    "images = html.select(\"div.item-img-container\")"
   ]
  },
  {
   "cell_type": "code",
   "execution_count": null,
   "metadata": {},
   "outputs": [],
   "source": []
  }
 ],
 "metadata": {
  "kernelspec": {
   "display_name": "Python 3",
   "language": "python",
   "name": "python3"
  },
  "language_info": {
   "codemirror_mode": {
    "name": "ipython",
    "version": 3
   },
   "file_extension": ".py",
   "mimetype": "text/x-python",
   "name": "python",
   "nbconvert_exporter": "python",
   "pygments_lexer": "ipython3",
   "version": "3.8.3"
  }
 },
 "nbformat": 4,
 "nbformat_minor": 4
}
